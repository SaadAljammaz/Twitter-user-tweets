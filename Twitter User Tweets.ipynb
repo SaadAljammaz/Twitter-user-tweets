{
 "cells": [
  {
   "cell_type": "markdown",
   "metadata": {},
   "source": [
    "### importing Twitter API"
   ]
  },
  {
   "cell_type": "code",
   "execution_count": 1,
   "metadata": {},
   "outputs": [],
   "source": [
    "from TwitterAPI import TwitterAPI, TwitterPager"
   ]
  },
  {
   "cell_type": "code",
   "execution_count": 2,
   "metadata": {},
   "outputs": [],
   "source": [
    "SCREEN_NAME = 'Twitter username Here'"
   ]
  },
  {
   "cell_type": "code",
   "execution_count": 4,
   "metadata": {},
   "outputs": [],
   "source": [
    "ConsumerKey = 'Your ConsumerKey Here'\n",
    "ConsumerSecret = 'Your ConsumerSecret Here'\n",
    "# AccessToken = 'Your AccessToken Here'\n",
    "# AccessTokenSecret = 'Your AccessTokenSecret Here'\n",
    "API = TwitterAPI(ConsumerKey,ConsumerSecret,auth_type='oAuth2')\n",
    "pager = TwitterPager(API,'statuses/user_timeline',{'screen_name':SCREEN_NAME, 'count':200})"
   ]
  },
  {
   "cell_type": "code",
   "execution_count": 5,
   "metadata": {},
   "outputs": [],
   "source": [
    "Tweets = []"
   ]
  },
  {
   "cell_type": "code",
   "execution_count": 6,
   "metadata": {},
   "outputs": [],
   "source": [
    "# Storing Tweets into LIST\n",
    "count = 0\n",
    "for item in pager.get_iterator(wait=2.5):\n",
    "    if 'text' in item:\n",
    "        count = count + 1\n",
    "        Tweets.append(item['text'])\n",
    "        # print(count, item['text'])\n",
    "    elif 'message' in item:\n",
    "        print(item['message'])\n",
    "        break"
   ]
  }
 ],
 "metadata": {
  "kernelspec": {
   "display_name": "Python 3",
   "language": "python",
   "name": "python3"
  },
  "language_info": {
   "codemirror_mode": {
    "name": "ipython",
    "version": 3
   },
   "file_extension": ".py",
   "mimetype": "text/x-python",
   "name": "python",
   "nbconvert_exporter": "python",
   "pygments_lexer": "ipython3",
   "version": "3.7.2"
  }
 },
 "nbformat": 4,
 "nbformat_minor": 2
}
